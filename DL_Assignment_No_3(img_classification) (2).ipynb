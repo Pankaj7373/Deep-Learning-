{
  "nbformat": 4,
  "nbformat_minor": 0,
  "metadata": {
    "colab": {
      "provenance": []
    },
    "kernelspec": {
      "name": "python3",
      "display_name": "Python 3"
    },
    "language_info": {
      "name": "python"
    }
  },
  "cells": [
    {
      "cell_type": "markdown",
      "source": [
        "**Build The image classification model by dividing the model into following 4 stages :**\n",
        "1.   Load and Pre-Processing image data\n",
        "2.   Defining the model's architecture\n",
        "3.   Training the model\n",
        "4.   Estimate models performance \n",
        "\n",
        "Solution Expected :*Implement and train CNN on an Hand-Written digits image dataset Called MNIST and improve model generralisation by achieving increased accuracy and descreased loss* \n"
      ],
      "metadata": {
        "id": "tX32eYFPMRxJ"
      }
    },
    {
      "cell_type": "code",
      "execution_count": 2,
      "metadata": {
        "id": "-I-XJMb-L1xv"
      },
      "outputs": [],
      "source": [
        "#Import Libraries \n",
        "import pandas as pd \n",
        "import numpy as np \n",
        "import random \n",
        "import tensorflow as tf\n",
        "import matplotlib.pyplot as plt \n",
        "from sklearn.metrics import accuracy_score \n",
        "\n",
        "from tensorflow.keras.models import Sequential \n",
        "from tensorflow.keras.layers import Conv2D , Dense , Flatten ,MaxPooling2D\n",
        "from tensorflow.keras.optimizers import SGD \n",
        "from tensorflow.keras.utils import to_categorical \n",
        "from tensorflow.keras.datasets import mnist  "
      ]
    },
    {
      "cell_type": "code",
      "source": [
        "(X_train , y_train) , (X_test , y_test) = mnist.load_data()"
      ],
      "metadata": {
        "colab": {
          "base_uri": "https://localhost:8080/",
          "height": 0
        },
        "id": "-YX3knWRRFOq",
        "outputId": "b5aaa52c-e3b6-414d-9cc9-7ed2cea09d47"
      },
      "execution_count": 5,
      "outputs": [
        {
          "output_type": "stream",
          "name": "stdout",
          "text": [
            "Downloading data from https://storage.googleapis.com/tensorflow/tf-keras-datasets/mnist.npz\n",
            "11490434/11490434 [==============================] - 0s 0us/step\n"
          ]
        }
      ]
    },
    {
      "cell_type": "code",
      "source": [
        "print(X_train.shape)"
      ],
      "metadata": {
        "id": "QkbvJC1VTTw5"
      },
      "execution_count": null,
      "outputs": []
    },
    {
      "cell_type": "code",
      "source": [
        "X_train[0].min(), X_train[0].max()"
      ],
      "metadata": {
        "id": "d6BeBdMZTe5Q"
      },
      "execution_count": null,
      "outputs": []
    },
    {
      "cell_type": "code",
      "source": [
        "X_train = (X_train - 0.0) / (255.0 - 0.0)\n",
        "X_test = (X_test - 0.0) / (255.0 - 0.0) \n",
        "X_train[0].min(),X_train[0].max()"
      ],
      "metadata": {
        "id": "g7iechrhTm50"
      },
      "execution_count": null,
      "outputs": []
    },
    {
      "cell_type": "code",
      "source": [
        "#Now plot First 20 images on the train set \n",
        "\n",
        "def plot_digit(image , digit , plt , i):\n",
        "  plt.subplot(4,5,i+1)\n",
        "  plt.imshow(image , cmap=plt.get_cmap('gray'))\n",
        "  plt.title(f\"Digit :{digit}\")\n",
        "  plt.xticks([])\n",
        "  plt.yticks([])\n",
        "plt.figure(figsize = (16,10))\n",
        "for i in range(20):\n",
        "  plot_digit(X_train[i] , y_train[i],plt , i)\n",
        "plt.show()"
      ],
      "metadata": {
        "id": "w--VduU_UG9l"
      },
      "execution_count": null,
      "outputs": []
    },
    {
      "cell_type": "code",
      "source": [
        "#Adding the 4Th dimension to i.e \"1\" because these are gray scale images\n",
        "X_train = X_train.reshape((X_train.shape + (1,)))\n",
        "X_test = X_test.reshape((X_test.shape + (1,)))"
      ],
      "metadata": {
        "id": "7qwo-CvsVfQP"
      },
      "execution_count": 14,
      "outputs": []
    },
    {
      "cell_type": "code",
      "source": [
        "y_train[0:20]"
      ],
      "metadata": {
        "id": "oCpSJ9WjW_Eq"
      },
      "execution_count": null,
      "outputs": []
    },
    {
      "cell_type": "code",
      "source": [
        "#Defining the models architecture\n",
        "\n",
        "model = Sequential([\n",
        "    Conv2D(32, (3,3), activation=\"relu\" , input_shape=(28,28,1)),\n",
        "    MaxPooling2D((2,2)),\n",
        "    Flatten(),\n",
        "    Dense(100,activation=\"relu\"),\n",
        "    Dense(10, activation=\"softmax\" ),\n",
        "\n",
        "])"
      ],
      "metadata": {
        "id": "uzo7qFs-XU_9"
      },
      "execution_count": 39,
      "outputs": []
    },
    {
      "cell_type": "code",
      "source": [
        "# Define How we want to train our model \n",
        "optimizer = SGD(learning_rate = 0.01 , momentum = 0.9 )\n",
        "model.compile(\n",
        "    optimizer = optimizer ,\n",
        "    loss = \"sparse_categorical_crossentropy\",\n",
        "    metrics = [\"accuracy\"],\n",
        ")\n",
        "model.summary()"
      ],
      "metadata": {
        "id": "97k9g6cyY_kK"
      },
      "execution_count": null,
      "outputs": []
    },
    {
      "cell_type": "code",
      "source": [
        "model.fit(X_train, y_train, epochs=10, batch_size=32) "
      ],
      "metadata": {
        "id": "h8dpM7hUavzb"
      },
      "execution_count": null,
      "outputs": []
    },
    {
      "cell_type": "code",
      "source": [
        "# Now lets test out model by 20 images and display them together with the predicted digit \n",
        "plt.figure(figsize = (16,10))\n",
        "for i in range(20):\n",
        "  image = random.choice(X_test).squeeze()\n",
        "  digit =np.argmax(model.predict(image.reshape((1,28,28,1)))[0], axis = -1)\n",
        "  plot_digit(image,digit,plt,i)\n",
        "plt.show()"
      ],
      "metadata": {
        "id": "xJqV1Mh2besA"
      },
      "execution_count": null,
      "outputs": []
    },
    {
      "cell_type": "code",
      "source": [
        "#complete models performance \n",
        "predictions = np.argmax(model.predict(X_test), axis=-1)\n",
        "accuracy_score(y_test, predictions)"
      ],
      "metadata": {
        "id": "8mtCfb4cdu-N"
      },
      "execution_count": null,
      "outputs": []
    },
    {
      "cell_type": "code",
      "source": [
        "# final estimate performance \n",
        "score = model.evaluate(X_test ,y_test, verbose=0)\n",
        "print('Test Loss:',score[0])\n",
        "print('Test Accuracy:',score[1])"
      ],
      "metadata": {
        "id": "HSAZmRXrebeO"
      },
      "execution_count": null,
      "outputs": []
    },
    {
      "cell_type": "code",
      "source": [],
      "metadata": {
        "id": "6HpxqNZFhvpP"
      },
      "execution_count": 51,
      "outputs": []
    },
    {
      "cell_type": "code",
      "source": [],
      "metadata": {
        "id": "gaKMQiIAh9UX"
      },
      "execution_count": null,
      "outputs": []
    }
  ]
}