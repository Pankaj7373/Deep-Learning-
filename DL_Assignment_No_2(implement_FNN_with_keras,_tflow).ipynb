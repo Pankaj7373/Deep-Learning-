{
  "nbformat": 4,
  "nbformat_minor": 0,
  "metadata": {
    "colab": {
      "provenance": [],
      "collapsed_sections": []
    },
    "kernelspec": {
      "name": "python3",
      "display_name": "Python 3"
    },
    "language_info": {
      "name": "python"
    }
  },
  "cells": [
    {
      "cell_type": "markdown",
      "source": [
        "**Implementing Feedforward neural network with keras and tensorflow**\n",
        "*   import packages \n",
        "*   load training and testing set\n",
        "*   define network architecture using keras \n",
        "*   train model using sgd \n",
        "*   evaluate network \n",
        "*   plot loss and accuracy "
      ],
      "metadata": {
        "id": "-qkw4uxxv2Tb"
      }
    },
    {
      "cell_type": "code",
      "execution_count": 7,
      "metadata": {
        "id": "Kov19-B6vwF0"
      },
      "outputs": [],
      "source": [
        "import tensorflow as tf \n",
        "import matplotlib.pyplot as plt \n",
        "import argparse \n",
        "import numpy as np \n",
        "\n",
        "from sklearn.preprocessing import LabelBinarizer \n",
        "from sklearn.metrics import classification_report \n",
        "from tensorflow import keras \n",
        "from keras.models import Sequential\n",
        "from keras import layers \n",
        "from keras.layers import Dense\n",
        "from keras.optimizers import SGD\n",
        "from keras.datasets import mnist \n",
        "from keras import backend as K "
      ]
    },
    {
      "cell_type": "code",
      "source": [
        "mnist = tf.keras.datasets.mnist \n",
        "(X_train , y_train),(X_test,y_test) = mnist.load_data()"
      ],
      "metadata": {
        "id": "cTRLPeyWxg_c"
      },
      "execution_count": 9,
      "outputs": []
    },
    {
      "cell_type": "code",
      "source": [
        "plt.matshow(X_train[0])"
      ],
      "metadata": {
        "id": "2q4gbADEy1A_"
      },
      "execution_count": null,
      "outputs": []
    },
    {
      "cell_type": "code",
      "source": [
        "X_train = X_train/255\n",
        "X_test = X_test/255"
      ],
      "metadata": {
        "id": "XVt17TNzzKoj"
      },
      "execution_count": 12,
      "outputs": []
    },
    {
      "cell_type": "code",
      "source": [
        "X_train[0]"
      ],
      "metadata": {
        "id": "ROvAp-87zZEV"
      },
      "execution_count": null,
      "outputs": []
    },
    {
      "cell_type": "code",
      "source": [
        "# Creating model \n",
        "model = keras.Sequential([\n",
        "    keras.layers.Flatten(input_shape=(28,28)),\n",
        "    keras.layers.Dense(128, activation='relu'),\n",
        "    keras.layers.Dense(10,activation='softmax')\n",
        "])\n",
        "model.summary()"
      ],
      "metadata": {
        "id": "CyzP_LwXzz26"
      },
      "execution_count": null,
      "outputs": []
    },
    {
      "cell_type": "code",
      "source": [
        "model.compile(\n",
        "    optimizer='sgd',\n",
        "    loss = 'sparse_categorical_crossentropy',\n",
        "    metrics=['accuracy']\n",
        ")"
      ],
      "metadata": {
        "id": "VZjMlHnB0Oat"
      },
      "execution_count": 18,
      "outputs": []
    },
    {
      "cell_type": "code",
      "source": [
        "m1 = model.fit(X_train, y_train, validation_data=(X_test, y_test) , epochs=10)"
      ],
      "metadata": {
        "id": "Q8EYGc0w14TX"
      },
      "execution_count": null,
      "outputs": []
    },
    {
      "cell_type": "code",
      "source": [
        "#Evaluate model\n",
        "test_loss, test_acc = model.evaluate(X_test,y_test)\n",
        "print(\"Loss=%.3f\" %test_loss)\n",
        "print(\"Accuracy=%.3f\" %test_acc)"
      ],
      "metadata": {
        "id": "r0QeWQgK5CSj"
      },
      "execution_count": null,
      "outputs": []
    },
    {
      "cell_type": "code",
      "source": [
        "n = random.randint(0,9999)\n",
        "plt.imshow(X_test[n])\n",
        "plt.show"
      ],
      "metadata": {
        "id": "omNbEvRM5p14"
      },
      "execution_count": null,
      "outputs": []
    },
    {
      "cell_type": "code",
      "source": [
        "predicted_value = model.predict(X_test)\n",
        "print(\"Handwritten number in image is =%d\" %np.argmax(predicted_value[n]))"
      ],
      "metadata": {
        "colab": {
          "base_uri": "https://localhost:8080/"
        },
        "id": "D8EvKcIy6ihq",
        "outputId": "e0d72825-5791-4d29-db39-5281f9faaa44"
      },
      "execution_count": 31,
      "outputs": [
        {
          "output_type": "stream",
          "name": "stdout",
          "text": [
            "313/313 [==============================] - 1s 2ms/step\n",
            "Handwritten number in image is =4\n"
          ]
        }
      ]
    },
    {
      "cell_type": "code",
      "source": [
        "plt.style.use(\"ggplot\")\n",
        "plt.figure()\n",
        "plt.plot(m1.history['accuracy'])\n",
        "plt.plot(m1.history['val_accuracy'])\n",
        "plt.title('model accuracy')\n",
        "plt.ylabel('accuracy')\n",
        "plt.xlabel('epoch')\n",
        "plt.legend(['train','test'], loc = 'upper left')\n",
        "plt.show()\n",
        "plt.savefig('accuracy.png')"
      ],
      "metadata": {
        "id": "ogqcu7Wr7b6g"
      },
      "execution_count": null,
      "outputs": []
    },
    {
      "cell_type": "code",
      "source": [
        "plt.style.use(\"ggplot\")\n",
        "plt.figure()\n",
        "plt.plot(m1.history['loss'])\n",
        "plt.plot(m1.history['val_loss'])\n",
        "plt.title('model loss')\n",
        "plt.ylabel('loss')\n",
        "plt.xlabel('epoch')\n",
        "plt.legend(['train','test'], loc = 'upper left')\n",
        "plt.show()\n",
        "plt.savefig('loss.png')"
      ],
      "metadata": {
        "id": "5u_dhIVs9taQ"
      },
      "execution_count": null,
      "outputs": []
    }
  ]
}